{
 "cells": [
  {
   "cell_type": "code",
   "execution_count": null,
   "metadata": {},
   "outputs": [],
   "source": [
    "from selenium import webdriver\n",
    "from selenium.webdriver.common.by import By\n",
    "from selenium.webdriver.common.keys import Keys\n",
    "from selenium.webdriver.chrome.service import Service\n",
    "import time\n",
    "from selenium.webdriver.common.action_chains import ActionChains\n",
    "from bs4 import BeautifulSoup\n",
    "import requests\n",
    "\n",
    "service = Service(executable_path=\"./chromedriver.exe\")\n",
    "driver = webdriver.Chrome(service=service)\n",
    "driver.get(\"https://www.google.com\")\n",
    "driver.maximize_window()\n",
    "input = driver.find_element(By.CLASS_NAME,\"gLFyf\")\n",
    "input.send_keys(\"layoffs.fyi\" + Keys.ENTER)\n",
    "link = driver.find_element(By.PARTIAL_LINK_TEXT, \"layoff\")\n",
    "link.click()\n",
    "\n",
    "data = BeautifulSoup(requests.get(\"https://layoffs.fyi/\").content,\"html.parser\")\n",
    "d = data.find_all(\"iframe\",attrs={\"class\":\"airtable-embed\"})\n",
    "links = [link[\"src\"] for link in d]\n",
    "driver.get(links[0])\n",
    "\n",
    "company_list = []\n",
    "layoff_list = []\n",
    "location_list = []\n",
    "date_list = []\n",
    "list_country = []\n",
    "list_industry =[]\n",
    "  \n",
    "i = 0\n",
    "while(i < 200):\n",
    "    verticalScrollBar = driver.find_element(By.CSS_SELECTOR, \".antiscroll-scrollbar.antiscroll-scrollbar-vertical.antiscroll-scrollbar-shown\")\n",
    "    ActionChains(driver).drag_and_drop_by_offset(verticalScrollBar, 0, 2).perform()\n",
    "    \n",
    "    #adjusting right panel for dates,laid off , location, ...\n",
    "    rigth_panel =  driver.find_element(By.CSS_SELECTOR, \".rightPaneWrapper\")\n",
    "    right_panel_soup = BeautifulSoup(rigth_panel.get_attribute(\"outerHTML\"),\"html.parser\")\n",
    "    \n",
    "    # addding country to list \n",
    "    countries = right_panel_soup.find_all(\"div\",attrs={\"data-columnid\":\"fldnR6AcR7HjRtwrG\"})\n",
    "    list_country += [country.text for country in countries]\n",
    "    \n",
    "    # adding dates to date_list\n",
    "    dates = right_panel_soup.find_all(\"div\",attrs={\"class\":\"truncate css-10jy3hn\"})\n",
    "    date_list += [date.text for date in dates]\n",
    "    \n",
    "    #adding industry to list\n",
    "    industries = right_panel_soup.find_all(\"div\",attrs={\"data-columnid\":\"fldMvtAoxHCri39uZ\"})\n",
    "    list_industry += [industry.text for industry in industries]\n",
    "    # locations    \n",
    "    locations = right_panel_soup.find_all(\"div\",attrs={\"class\":\"baymax flex flex-auto overflow-hidden fit p-half\"})\n",
    "    location_list += [location.text for location in locations]\n",
    "    \n",
    "    # adding laid off to layoff_list\n",
    "    layoff = right_panel_soup.find_all(\"div\",attrs={\"data-columnid\":\"flduZSpdFqkB4eeEh\"})\n",
    "    layoff_list += [lay.text for lay in layoff]\n",
    "    \n",
    "    # adjust left panel's data to add company names to list \n",
    "    left_panel= driver.find_element(By.CSS_SELECTOR, \".leftPaneWrapper\")\n",
    "    left_panel_soup = BeautifulSoup(left_panel.get_attribute(\"outerHTML\"),\"html.parser\")\n",
    "    company_names = left_panel_soup.find_all(\"div\",attrs={\"class\":\"line-height-4 overflow-hidden truncate-block-1-line truncate\"})\n",
    "    company_list += [company.text for company in company_names]\n",
    "\n",
    "    i = i + 1\n",
    "        \n",
    "time.sleep(5)\n",
    "\n",
    "driver.quit()"
   ]
  },
  {
   "cell_type": "code",
   "execution_count": null,
   "metadata": {},
   "outputs": [],
   "source": [
    "layoff_list = [x for x in layoff_list if x != '\\n\\n\\n# Laid Off\\n\\n\\n\\n\\n\\n\\n\\n\\n\\n\\n\\n']\n",
    "#print(layoff_list)\n",
    "list_industry = [x for x in list_industry if x != '\\n\\n\\nIndustry\\n\\n\\n\\n\\n\\n\\n\\n\\n\\n\\n\\n']\n",
    "list_country = [x for x in list_country if x != '\\n\\n\\nCountry\\n\\n\\n\\n\\n\\n\\n\\n\\n\\n\\n\\n']\n",
    "print(list_country)"
   ]
  },
  {
   "cell_type": "code",
   "execution_count": null,
   "metadata": {},
   "outputs": [],
   "source": [
    "\"\"\"\n",
    "import csv \n",
    "with open(\"Layoff.csv\",\"w\",newline=\"\",encoding = \"utf-8\") as file:\n",
    "    for a1,a2,a3,a4,a5,a6 in zip(company_list,layoff_list,location_list,date_list,list_country,list_industry):\n",
    "        file.write(a1 + \",\" + a2 + \",\" + a3 + \",\" + a4 + \",\"+a5 + \",\"+a6 +\"\\n\")\n",
    "\"\"\""
   ]
  },
  {
   "cell_type": "code",
   "execution_count": null,
   "metadata": {},
   "outputs": [],
   "source": [
    "import sqlite3\n",
    "\n",
    "connection = sqlite3.connect(\"layoff.db\")\n",
    "process = connection.cursor()\n",
    "connection.commit()\n"
   ]
  },
  {
   "cell_type": "code",
   "execution_count": null,
   "metadata": {},
   "outputs": [],
   "source": [
    "table = process.execute(\"Create table if not exists csv(company TEXT, layoff TEXT,location TEXT,date TEXT,country TEXT, industry TEXT)\")\n",
    "connection.commit()"
   ]
  },
  {
   "cell_type": "code",
   "execution_count": null,
   "metadata": {},
   "outputs": [],
   "source": [
    "list_of_datalist = zip(company_list,layoff_list,location_list,date_list,list_country,list_industry)\n",
    "\n",
    "for data in list_of_datalist:\n",
    "    process.execute(\"Insert into csv values(?,?,?,?,?,?)\",data)\n",
    "    connection.commit()"
   ]
  }
 ],
 "metadata": {
  "kernelspec": {
   "display_name": "Python 3",
   "language": "python",
   "name": "python3"
  },
  "language_info": {
   "codemirror_mode": {
    "name": "ipython",
    "version": 3
   },
   "file_extension": ".py",
   "mimetype": "text/x-python",
   "name": "python",
   "nbconvert_exporter": "python",
   "pygments_lexer": "ipython3",
   "version": "3.12.2"
  }
 },
 "nbformat": 4,
 "nbformat_minor": 2
}
